{
 "cells": [
  {
   "cell_type": "code",
   "execution_count": null,
   "id": "570e9d53-8242-457c-91cb-9ff66275fedc",
   "metadata": {},
   "outputs": [],
   "source": [
    "pip install pycountry"
   ]
  },
  {
   "cell_type": "code",
   "execution_count": null,
   "id": "47d2b8ac-7654-4548-8fa8-2acdea2f1b0c",
   "metadata": {},
   "outputs": [],
   "source": [
    "import pandas as pd\n",
    "import requests as rq\n",
    "import pymysql as sql\n",
    "import pycountry as pyc"
   ]
  },
  {
   "cell_type": "code",
   "execution_count": null,
   "id": "22b84388-c95a-4df6-b0eb-e1db42d13bf7",
   "metadata": {},
   "outputs": [],
   "source": [
    "Obesity_adults = rq.get('https://ghoapi.azureedge.net/api/NCD_BMI_30C')\n",
    "Obesity_children = rq.get('https://ghoapi.azureedge.net/api/NCD_BMI_PLUS2C')\n",
    "Underweight_adults = rq.get('https://ghoapi.azureedge.net/api/NCD_BMI_18C')\n",
    "Underweight_children = rq.get('https://ghoapi.azureedge.net/api/NCD_BMI_MINUS2C')"
   ]
  },
  {
   "cell_type": "code",
   "execution_count": null,
   "id": "d1c65e6d-2e0e-4f43-a56a-2bad7ef4a331",
   "metadata": {},
   "outputs": [],
   "source": [
    "print(Obesity_adults)"
   ]
  },
  {
   "cell_type": "code",
   "execution_count": null,
   "id": "7b3075dd-ea77-4629-bbce-c90b79ed3ecd",
   "metadata": {},
   "outputs": [],
   "source": [
    "print(Obesity_children)"
   ]
  },
  {
   "cell_type": "code",
   "execution_count": null,
   "id": "8d8ba8e7-a66e-4ec1-912c-ba8e96902639",
   "metadata": {},
   "outputs": [],
   "source": [
    "print(Underweight_adults)"
   ]
  },
  {
   "cell_type": "code",
   "execution_count": null,
   "id": "a5063ad0-a694-437a-b23b-39ef5fd4a667",
   "metadata": {},
   "outputs": [],
   "source": [
    "print(Underweight_children)"
   ]
  },
  {
   "cell_type": "code",
   "execution_count": null,
   "id": "c4eda7a6-161d-42c4-a787-cd1558e704e6",
   "metadata": {},
   "outputs": [],
   "source": [
    "special_cases = {\n",
    "                    'GLOBAL': 'Global',\n",
    "                    'WB_LMI': 'Low & Middle Income',\n",
    "                    'WB_HI': 'High Income',\n",
    "                    'WB_LI': 'Low Income',\n",
    "                    'EMR': 'Eastern Mediterranean Region',\n",
    "                    'EUR': 'Europe',\n",
    "                    'AFR': 'Africa',\n",
    "                    'SEAR': 'South-East Asia Region',\n",
    "                    'WPR': 'Western Pacific Region',\n",
    "                    'AMR': 'Americas Region',\n",
    "                    'WB_UMI': 'Upper Middle Income'\n",
    "}\n",
    "\n",
    "def convertCountryCode(code):\n",
    "    country = pyc.countries.get(alpha_3 = code)\n",
    "    if country is not None:\n",
    "        return country.name\n",
    "    else:\n",
    "        return special_cases[code]"
   ]
  },
  {
   "cell_type": "code",
   "execution_count": null,
   "id": "efd8c5c8-f401-4674-87d8-8188cba09be0",
   "metadata": {},
   "outputs": [],
   "source": [
    "def gender(sex):\n",
    "    if sex == 'SEX_MLE':\n",
    "        return 'Male'\n",
    "    elif sex == 'SEX_FMLE':\n",
    "        return 'Female'\n",
    "    else:\n",
    "        return 'Both'"
   ]
  },
  {
   "cell_type": "code",
   "execution_count": null,
   "id": "2449f969-5c9b-4355-8dae-685c880303a4",
   "metadata": {},
   "outputs": [],
   "source": [
    "def Malnutrition_Level(level):\n",
    "    if level >= 20:\n",
    "        return 'High'\n",
    "    elif level >= 10 and level <= 19.9:\n",
    "        return 'Moderate'\n",
    "    else:\n",
    "        return 'Low'"
   ]
  },
  {
   "cell_type": "code",
   "execution_count": null,
   "id": "7d7610b2-b7c2-4af0-98c2-fd2ef782f950",
   "metadata": {},
   "outputs": [],
   "source": [
    "def Obesity_Level(level):\n",
    "    if level >= 30:\n",
    "        return 'High'\n",
    "    elif level >= 25 and level <= 29.9:\n",
    "        return 'Moderate'\n",
    "    else:\n",
    "        return 'Low'"
   ]
  },
  {
   "cell_type": "code",
   "execution_count": null,
   "id": "49aec779-c26e-4d5f-bd4c-bb25ca15e4a6",
   "metadata": {},
   "outputs": [],
   "source": [
    "def conventDataToDictToObe(data,age_group):\n",
    "    nutrition_data = []\n",
    "    for val in data:\n",
    "        if val['TimeDim'] >= 2012 and val['TimeDim'] <= 2022:\n",
    "            nutrition_data.append(dict(\n",
    "                region  = val['ParentLocation'],\n",
    "                gender = gender(val['Dim1']),\n",
    "                year = val['TimeDim'],\n",
    "                lower_bound = float(val['Low']),\n",
    "                upper_bound = float(val['High']),\n",
    "                mean_estimate = val['NumericValue'],\n",
    "                country = convertCountryCode(val['SpatialDim']),\n",
    "                age_group = age_group,\n",
    "                ci_width = val['High'] - val['Low'],\n",
    "                obesity_level = Obesity_Level(val['NumericValue'])\n",
    "            ))\n",
    "    return nutrition_data"
   ]
  },
  {
   "cell_type": "code",
   "execution_count": null,
   "id": "48332fa5-df22-41a0-b28b-259064b7447b",
   "metadata": {},
   "outputs": [],
   "source": [
    "def conventDataToDictToMulnut(data,age_group):\n",
    "    nutrition_data = []\n",
    "    for val in data:\n",
    "        if val['TimeDim'] >= 2012 and val['TimeDim'] <= 2022:\n",
    "            nutrition_data.append(dict(\n",
    "                region  = val['ParentLocation'],\n",
    "                gender = gender(val['Dim1']),\n",
    "                year = val['TimeDim'],\n",
    "                lower_bound = float(val['Low']),\n",
    "                upper_bound = float(val['High']),\n",
    "                mean_estimate = val['NumericValue'],\n",
    "                country = convertCountryCode(val['SpatialDim']),\n",
    "                age_group = age_group,\n",
    "                ci_width = val['High'] - val['Low'],\n",
    "                malnutrition_level = Malnutrition_Level(val['NumericValue'])\n",
    "            ))\n",
    "    return nutrition_data"
   ]
  },
  {
   "cell_type": "code",
   "execution_count": null,
   "id": "be64a40e-8bc0-41c2-9883-09e929f2d470",
   "metadata": {},
   "outputs": [],
   "source": [
    "Ob_a = Obesity_adults.json()"
   ]
  },
  {
   "cell_type": "code",
   "execution_count": null,
   "id": "b9ad69a0-9ac1-48b3-a6e7-c9fb8c8790ef",
   "metadata": {
    "scrolled": true
   },
   "outputs": [],
   "source": [
    "nutrition_data_ob_a = conventDataToDictToObe(Ob_a['value'],'Adult')\n",
    "# print(nutrition_data_ob_a)"
   ]
  },
  {
   "cell_type": "code",
   "execution_count": null,
   "id": "832092c9-6d40-4a26-b58e-a4c48400457d",
   "metadata": {},
   "outputs": [],
   "source": [
    "Ob_c = Obesity_children.json()"
   ]
  },
  {
   "cell_type": "code",
   "execution_count": null,
   "id": "ead03f9c-817a-4733-a91f-91a9019a0a9a",
   "metadata": {
    "scrolled": true
   },
   "outputs": [],
   "source": [
    "nutrition_data_ob_c = conventDataToDictToObe(Ob_c['value'],'Child')\n",
    "# print(nutrition_data_ob_c)"
   ]
  },
  {
   "cell_type": "code",
   "execution_count": null,
   "id": "96066a83-6091-41f1-96bf-4e91188196f6",
   "metadata": {
    "scrolled": true
   },
   "outputs": [],
   "source": [
    "Ub_a = Underweight_adults.json()"
   ]
  },
  {
   "cell_type": "code",
   "execution_count": null,
   "id": "774605d7-d0e2-46e5-a804-bcf0c653e497",
   "metadata": {
    "scrolled": true
   },
   "outputs": [],
   "source": [
    "nutrition_data_ub_a = conventDataToDictToMulnut(Ub_a['value'],'Adult')\n",
    "# print(nutrition_data_ub_a)"
   ]
  },
  {
   "cell_type": "code",
   "execution_count": null,
   "id": "71a67c47-b2c4-4147-9b82-02f02cbad86e",
   "metadata": {
    "scrolled": true
   },
   "outputs": [],
   "source": [
    "Ub_c = Underweight_children.json()"
   ]
  },
  {
   "cell_type": "code",
   "execution_count": null,
   "id": "c55a410d-c72a-4371-932a-e0e669e5bccc",
   "metadata": {
    "scrolled": true
   },
   "outputs": [],
   "source": [
    "nutrition_data_ub_c = conventDataToDictToMulnut(Ub_c['value'],'Child')\n",
    "# print(nutrition_data_ub_c)"
   ]
  },
  {
   "cell_type": "code",
   "execution_count": null,
   "id": "0e03ddaf-baf3-4d5a-b4cd-f17078684cd6",
   "metadata": {},
   "outputs": [],
   "source": [
    "myconnection = sql.connect(host =\"localhost\",user = \"root\",password = \"Mysql\")"
   ]
  },
  {
   "cell_type": "code",
   "execution_count": null,
   "id": "5f3054b7-8fe6-4eac-965d-3bf701f39b0b",
   "metadata": {},
   "outputs": [],
   "source": [
    "cur = myconnection.cursor()"
   ]
  },
  {
   "cell_type": "code",
   "execution_count": null,
   "id": "ec4d23f9-383e-451e-b755-3effa2aa8631",
   "metadata": {},
   "outputs": [],
   "source": [
    "cur.execute(\"create database nutrition\")"
   ]
  },
  {
   "cell_type": "code",
   "execution_count": null,
   "id": "f255d2e4-4a8c-4802-8599-eef96c0fef0a",
   "metadata": {},
   "outputs": [],
   "source": [
    "cur.execute(\"use nutrition\")"
   ]
  },
  {
   "cell_type": "code",
   "execution_count": null,
   "id": "bb6c6074-628d-45cc-8f88-356dde2b9381",
   "metadata": {},
   "outputs": [],
   "source": [
    "cur.execute(\"create table obesity(region varchar(50), gender varchar(50), year varchar(4), lower_bound float(8,6), upper_bound float(8,6), mean_estimate float(8,6), country varchar(50), age_group varchar(5), ci_width float(8,6) , obesity varchar(10));\")"
   ]
  },
  {
   "cell_type": "code",
   "execution_count": null,
   "id": "bf5ad057-d14f-4e63-81c9-ef05f0c63f99",
   "metadata": {},
   "outputs": [],
   "source": [
    "cur.execute(\"create table malnutrition(region varchar(50), gender varchar(50), year varchar(4), lower_bound float(8,6), upper_bound float(8,6), mean_estimate float(8,6), country varchar(50), age_group varchar(5), ci_width float(8,6),malnutrition varchar(10));\")"
   ]
  },
  {
   "cell_type": "code",
   "execution_count": null,
   "id": "c5dd8473-4a51-4482-be7b-59b55fbffd51",
   "metadata": {},
   "outputs": [],
   "source": [
    "for nu_d_ob_a in nutrition_data_ob_a:\n",
    "    insert_query = (\"insert into nutrition.obesity values (%s,%s,%s,%s,%s,%s,%s,%s,%s,%s)\")\n",
    "    values = ({nu_d_ob_a['region']},{nu_d_ob_a['gender']},{nu_d_ob_a['year']},{nu_d_ob_a['lower_bound']},{nu_d_ob_a['upper_bound']},{nu_d_ob_a['mean_estimate']},{nu_d_ob_a['country']},{nu_d_ob_a['age_group']},{nu_d_ob_a['ci_width']},{nu_d_ob_a['obesity_level']})\n",
    "    cur.execute(insert_query,values)\n",
    "    myconnection.commit()"
   ]
  },
  {
   "cell_type": "code",
   "execution_count": null,
   "id": "1488b9dd-3ff7-46ef-b637-36b55e7bc97a",
   "metadata": {},
   "outputs": [],
   "source": [
    "for nu_d_ob_c in nutrition_data_ob_c:\n",
    "    insert_query = (\"insert into nutrition.obesity values (%s,%s,%s,%s,%s,%s,%s,%s,%s,%s)\")\n",
    "    values = ({nu_d_ob_c['region']},{nu_d_ob_c['gender']},{nu_d_ob_c['year']},{nu_d_ob_c['lower_bound']},{nu_d_ob_c['upper_bound']},{nu_d_ob_c['mean_estimate']},{nu_d_ob_c['country']},{nu_d_ob_c['age_group']},{nu_d_ob_c['ci_width']},{nu_d_ob_c['obesity_level']})\n",
    "    cur.execute(insert_query,values)\n",
    "    myconnection.commit()"
   ]
  },
  {
   "cell_type": "code",
   "execution_count": null,
   "id": "fbb9062f-c9eb-4dcf-bd54-a33af543e191",
   "metadata": {},
   "outputs": [],
   "source": [
    "for nu_d_ob_a in nutrition_data_ub_a:\n",
    "    insert_query = (\"insert into nutrition.malnutrition values (%s,%s,%s,%s,%s,%s,%s,%s,%s,%s)\")\n",
    "    values = ({nu_d_ob_a['region']},{nu_d_ob_a['gender']},{nu_d_ob_a['year']},{nu_d_ob_a['lower_bound']},{nu_d_ob_a['upper_bound']},{nu_d_ob_a['mean_estimate']},{nu_d_ob_a['country']},{nu_d_ob_a['age_group']},{nu_d_ob_a['ci_width']},{nu_d_ob_a['malnutrition_level']})\n",
    "    cur.execute(insert_query,values)\n",
    "    myconnection.commit()"
   ]
  },
  {
   "cell_type": "code",
   "execution_count": null,
   "id": "4826e45a-2a13-4de8-8d5a-cb2d503cd273",
   "metadata": {},
   "outputs": [],
   "source": [
    "for nu_d_ob_a in nutrition_data_ub_c:\n",
    "    insert_query = (\"insert into nutrition.malnutrition values (%s,%s,%s,%s,%s,%s,%s,%s,%s,%s)\")\n",
    "    values = ({nu_d_ob_a['region']},{nu_d_ob_a['gender']},{nu_d_ob_a['year']},{nu_d_ob_a['lower_bound']},{nu_d_ob_a['upper_bound']},{nu_d_ob_a['mean_estimate']},{nu_d_ob_a['country']},{nu_d_ob_a['age_group']},{nu_d_ob_a['ci_width']},{nu_d_ob_a['malnutrition_level']})\n",
    "    cur.execute(insert_query,values)\n",
    "    myconnection.commit()"
   ]
  },
  {
   "cell_type": "code",
   "execution_count": null,
   "id": "210805d4-adb5-4ce9-adbf-6d643b372b87",
   "metadata": {},
   "outputs": [],
   "source": [
    "cur.execute(\"drop table obesity\")"
   ]
  },
  {
   "cell_type": "code",
   "execution_count": null,
   "id": "2fb025cf-8a4c-48f5-9e14-ca6d6bb59c28",
   "metadata": {},
   "outputs": [],
   "source": [
    "cur.execute(\"drop table malnutrition\")"
   ]
  },
  {
   "cell_type": "code",
   "execution_count": null,
   "id": "e7b617fa-8d0c-4758-beb9-cc78cd269c1f",
   "metadata": {},
   "outputs": [],
   "source": [
    "cur.execute(\"truncate table obesity\")"
   ]
  },
  {
   "cell_type": "code",
   "execution_count": null,
   "id": "47b0592e-e840-4d6d-9720-2deb075503f4",
   "metadata": {},
   "outputs": [],
   "source": [
    "cur.execute(\"truncate table malnutrition\")"
   ]
  },
  {
   "cell_type": "code",
   "execution_count": null,
   "id": "9cc94a2c-865a-4987-82de-cb76647cb444",
   "metadata": {},
   "outputs": [],
   "source": []
  },
  {
   "cell_type": "code",
   "execution_count": null,
   "id": "6aec14d9-82de-49f6-98cc-95cffcbd9c72",
   "metadata": {},
   "outputs": [],
   "source": []
  }
 ],
 "metadata": {
  "kernelspec": {
   "display_name": "Python [conda env:base] *",
   "language": "python",
   "name": "conda-base-py"
  },
  "language_info": {
   "codemirror_mode": {
    "name": "ipython",
    "version": 3
   },
   "file_extension": ".py",
   "mimetype": "text/x-python",
   "name": "python",
   "nbconvert_exporter": "python",
   "pygments_lexer": "ipython3",
   "version": "3.12.7"
  }
 },
 "nbformat": 4,
 "nbformat_minor": 5
}
